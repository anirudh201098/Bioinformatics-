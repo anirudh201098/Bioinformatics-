{
 "cells": [
  {
   "cell_type": "code",
   "execution_count": 1,
   "metadata": {},
   "outputs": [],
   "source": [
    "from Bio.Seq import Seq"
   ]
  },
  {
   "cell_type": "code",
   "execution_count": 2,
   "metadata": {},
   "outputs": [],
   "source": [
    "import random"
   ]
  },
  {
   "cell_type": "code",
   "execution_count": 11,
   "metadata": {},
   "outputs": [],
   "source": [
    "def seq(length):\n",
    "    string='>'\n",
    "    for i in range(length):\n",
    "        string=string+random.choice(Seq('ATGC'))\n",
    "    return string "
   ]
  },
  {
   "cell_type": "code",
   "execution_count": 12,
   "metadata": {},
   "outputs": [
    {
     "name": "stdout",
     "output_type": "stream",
     "text": [
      "Enter string length=20\n"
     ]
    }
   ],
   "source": [
    "s1=seq(int(input(\"Enter string length=\")))"
   ]
  },
  {
   "cell_type": "code",
   "execution_count": 5,
   "metadata": {},
   "outputs": [
    {
     "name": "stdout",
     "output_type": "stream",
     "text": [
      "Enter string length=20\n"
     ]
    }
   ],
   "source": [
    "s2=seq(int(input(\"Enter string length=\")))\n"
   ]
  },
  {
   "cell_type": "markdown",
   "metadata": {},
   "source": [
    "## Score Matrix (Needleman and Wunsch algorithm)"
   ]
  },
  {
   "cell_type": "code",
   "execution_count": 6,
   "metadata": {},
   "outputs": [],
   "source": [
    "import numpy as np\n",
    "\n",
    "def scoreMatrix(s1,s2):\n",
    "    ls2=list(s2)\n",
    "    ls1=list(s1)\n",
    "    matrix=np.zeros((len(s1)+1,len(s2)+1),int)\n",
    "    matrix[0,:]=np.arange(0,len(s2)+1)*-1\n",
    "    matrix[:,0]=np.arange(0,len(s1)+1)*-1\n",
    "    size=np.shape(matrix)\n",
    "    for i in range(size[0]-1):\n",
    "        for j in range(size[1]-1):\n",
    "            if ls1[i]==ls2[j]:\n",
    "                matrix[i+1,j+1]=max(matrix[i+1,j]-1,matrix[i,j]+1,matrix[i,j+1]-1)\n",
    "            else:\n",
    "                matrix[i+1,j+1]=max(matrix[i+1,j]-1,matrix[i,j],matrix[i,j+1]-1)\n",
    "    return matrix"
   ]
  },
  {
   "cell_type": "code",
   "execution_count": 10,
   "metadata": {},
   "outputs": [
    {
     "name": "stdout",
     "output_type": "stream",
     "text": [
      "[[  0  -1  -2  -3  -4  -5  -6  -7  -8  -9 -10 -11 -12 -13 -14 -15 -16 -17\n",
      "  -18 -19 -20]\n",
      " [ -1   1   0  -1  -2  -3  -4  -5  -6  -7  -8  -9 -10 -11 -12 -13 -14 -15\n",
      "  -16 -17 -18]\n",
      " [ -2   0   1   0  -1  -2  -3  -3  -4  -5  -6  -7  -8  -9 -10 -11 -12 -13\n",
      "  -14 -15 -16]\n",
      " [ -3  -1   0   1   1   0  -1  -2  -3  -4  -5  -6  -7  -7  -8  -9 -10 -11\n",
      "  -12 -13 -14]\n",
      " [ -4  -2   0   0   1   1   0  -1  -2  -2  -3  -4  -5  -6  -7  -8  -9 -10\n",
      "  -11 -12 -13]\n",
      " [ -5  -3  -1   0   0   1   1   0  -1  -1  -2  -3  -4  -5  -6  -7  -8  -9\n",
      "  -10 -11 -12]\n",
      " [ -6  -4  -2  -1   0   0   1   1   0   0  -1  -2  -3  -4  -5  -6  -7  -8\n",
      "   -9 -10 -11]\n",
      " [ -7  -5  -3  -2   0   0   0   1   1   0   0  -1  -2  -2  -3  -4  -5  -6\n",
      "   -7  -8  -9]\n",
      " [ -8  -6  -4  -2  -1   1   1   0   2   1   0   0  -1  -2  -1  -2  -3  -4\n",
      "   -5  -6  -7]\n",
      " [ -9  -7  -5  -3  -2   0   1   2   1   2   2   1   1   0  -1  -1  -1  -2\n",
      "   -3  -4  -5]\n",
      " [-10  -8  -6  -4  -2  -1   0   1   2   1   2   2   1   2   1   0  -1  -1\n",
      "   -2  -3  -4]\n",
      " [-11  -9  -7  -5  -3  -2  -1   1   1   2   2   3   3   2   2   1   1   0\n",
      "    0  -1  -2]\n",
      " [-12 -10  -8  -6  -4  -3  -2   0   1   1   2   2   3   4   3   2   1   1\n",
      "    0   0  -1]\n",
      " [-13 -11  -9  -7  -5  -4  -3  -1   0   1   2   3   3   3   4   3   3   2\n",
      "    2   1   0]\n",
      " [-14 -12 -10  -8  -6  -5  -4  -2  -1   0   1   2   3   4   3   4   3   3\n",
      "    2   2   1]\n",
      " [-15 -13 -11  -9  -7  -5  -4  -3  -1  -1   0   1   2   3   5   4   4   4\n",
      "    3   2   3]\n",
      " [-16 -14 -12 -10  -8  -6  -5  -3  -2  -1   0   1   2   2   4   5   5   4\n",
      "    5   4   3]\n",
      " [-17 -15 -13 -11  -9  -7  -6  -4  -3  -2  -1   0   1   3   3   4   5   5\n",
      "    4   5   4]\n",
      " [-18 -16 -14 -12 -10  -8  -7  -5  -4  -3  -1   0   1   2   3   3   5   5\n",
      "    6   5   5]\n",
      " [-19 -17 -15 -13 -11  -9  -8  -6  -5  -3  -2  -1   0   1   2   3   4   5\n",
      "    5   6   5]\n",
      " [-20 -18 -16 -14 -12 -10  -8  -7  -5  -4  -3  -2  -1   0   2   3   3   5\n",
      "    5   5   7]]\n"
     ]
    }
   ],
   "source": [
    "m=scoreMatrix(s1,s2)\n",
    "print(m)"
   ]
  },
  {
   "cell_type": "markdown",
   "metadata": {},
   "source": [
    "## Alignment score and the best alignment"
   ]
  },
  {
   "cell_type": "code",
   "execution_count": 9,
   "metadata": {},
   "outputs": [
    {
     "name": "stdout",
     "output_type": "stream",
     "text": [
      "Score = 7.0:\n",
      "GGCTCCACGAAAT-CCACAAC\n",
      "-|.|.....|.||-.||.|.|\n",
      "-GATGGGTCATATATCATAGC\n",
      "\n",
      "Score = 7.0:\n",
      "GGCTCCACGAAATC-CACAAC\n",
      "-|.|.....|.||.-||.|.|\n",
      "-GATGGGTCATATATCATAGC\n",
      "\n",
      "Score = 7.0:\n",
      "G--GCTCCACGAAATCCACAAC\n",
      "|--|...||-.|.||-||.|.|\n",
      "GATGGGTCA-TATAT-CATAGC\n",
      "\n",
      "Score = 7.0:\n",
      "G--GCTCCACGAAATCCACAAC\n",
      "|--|...||-.|.|||-|.|.|\n",
      "GATGGGTCA-TATATC-ATAGC\n",
      "\n",
      "Score = 7.0:\n",
      "G--GCTCCACGAAATCCACAAC\n",
      "|--|...||.-|.||-||.|.|\n",
      "GATGGGTCAT-ATAT-CATAGC\n",
      "\n",
      "Score = 7.0:\n",
      "G--GCTCCACGAAATCCACAAC\n",
      "|--|...||.-|.|||-|.|.|\n",
      "GATGGGTCAT-ATATC-ATAGC\n",
      "\n",
      "Score = 7.0:\n",
      "GGCTCCACGAAAT-CCACAAC\n",
      "|-.|.....|.||-.||.|.|\n",
      "G-ATGGGTCATATATCATAGC\n",
      "\n",
      "Score = 7.0:\n",
      "GGCTCCACGAAATC-CACAAC\n",
      "|-.|.....|.||.-||.|.|\n",
      "G-ATGGGTCATATATCATAGC\n",
      "\n",
      "Score = 7.0:\n",
      "GGCTCCACGAAAT-CCACAAC\n",
      "|.-|.....|.||-.||.|.|\n",
      "GA-TGGGTCATATATCATAGC\n",
      "\n",
      "Score = 7.0:\n",
      "GGCTCCACGAAATC-CACAAC\n",
      "|.-|.....|.||.-||.|.|\n",
      "GA-TGGGTCATATATCATAGC\n",
      "\n",
      "Score = 7.0:\n",
      "GGCTCCAC-GAAATCCACAAC\n",
      "|......|-.|.||-||.|.|\n",
      "GATGGGTCATATAT-CATAGC\n",
      "\n",
      "Score = 7.0:\n",
      "GGCTCCAC-GAAATCCACAAC\n",
      "|......|-.|.|||-|.|.|\n",
      "GATGGGTCATATATC-ATAGC\n",
      "\n",
      "Score = 7.0:\n",
      "GGCTCCACGAAAT-CCACAAC\n",
      "|......|-|.||-.||.|.|\n",
      "GATGGGTC-ATATATCATAGC\n",
      "\n",
      "Score = 7.0:\n",
      "GGCTCCACGAAATC-CACAAC\n",
      "|......|-|.||.-||.|.|\n",
      "GATGGGTC-ATATATCATAGC\n",
      "\n",
      "Score = 7.0:\n",
      "GGCTCCACG-AAATCCACAAC\n",
      "|......|.-|.||-||.|.|\n",
      "GATGGGTCATATAT-CATAGC\n",
      "\n",
      "Score = 7.0:\n",
      "GGCTCCACG-AAATCCACAAC\n",
      "|......|.-|.|||-|.|.|\n",
      "GATGGGTCATATATC-ATAGC\n",
      "\n",
      "Score = 7.0:\n",
      "GGCTCCACGAA-ATCCACAAC\n",
      "|......|..|-||-||.|.|\n",
      "GATGGGTCATATAT-CATAGC\n",
      "\n",
      "Score = 7.0:\n",
      "GGCTCCACGAA-ATCCACAAC\n",
      "|......|..|-|||-|.|.|\n",
      "GATGGGTCATATATC-ATAGC\n",
      "\n",
      "Score = 7.0:\n",
      "GGCTCCACGAAATCCACAAC\n",
      "|......|..|...||.|.|\n",
      "GATGGGTCATATATCATAGC\n",
      "\n"
     ]
    }
   ],
   "source": [
    "from Bio import Align\n",
    "aligner = Align.PairwiseAligner()\n",
    "aligner.gap_score=-1\n",
    "aligner.match_score=1\n",
    "aligner.mismatch_score=0\n",
    "alignments = aligner.align(s2,s1)\n",
    "for alignment in sorted(alignments):\n",
    "    print(\"Score = %.1f:\" % alignment.score)\n",
    "    print(alignment)"
   ]
  },
  {
   "cell_type": "code",
   "execution_count": null,
   "metadata": {},
   "outputs": [],
   "source": []
  }
 ],
 "metadata": {
  "kernelspec": {
   "display_name": "Python 3.7 (tensorflow)",
   "language": "python",
   "name": "tensorflow"
  },
  "language_info": {
   "codemirror_mode": {
    "name": "ipython",
    "version": 3
   },
   "file_extension": ".py",
   "mimetype": "text/x-python",
   "name": "python",
   "nbconvert_exporter": "python",
   "pygments_lexer": "ipython3",
   "version": "3.7.7"
  }
 },
 "nbformat": 4,
 "nbformat_minor": 4
}
